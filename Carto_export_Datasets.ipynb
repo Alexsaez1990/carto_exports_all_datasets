{
  "nbformat": 4,
  "nbformat_minor": 0,
  "metadata": {
    "colab": {
      "provenance": [],
      "mount_file_id": "1GYEd33B0bGkzTEugvQ5vMo4LQxs-3eEe",
      "authorship_tag": "ABX9TyNc/9iYnAY3Des+xMduSDmL",
      "include_colab_link": true
    },
    "kernelspec": {
      "name": "python3",
      "display_name": "Python 3"
    },
    "language_info": {
      "name": "python"
    }
  },
  "cells": [
    {
      "cell_type": "markdown",
      "metadata": {
        "id": "view-in-github",
        "colab_type": "text"
      },
      "source": [
        "<a href=\"https://colab.research.google.com/github/Alexsaez1990/carto_exports_all_datasets/blob/main/Carto_export_Datasets.ipynb\" target=\"_parent\"><img src=\"https://colab.research.google.com/assets/colab-badge.svg\" alt=\"Open In Colab\"/></a>"
      ]
    },
    {
      "cell_type": "code",
      "source": [
        "!pip install carto"
      ],
      "metadata": {
        "id": "SRCqWOm264rq"
      },
      "execution_count": null,
      "outputs": []
    },
    {
      "cell_type": "code",
      "source": [
        "#AUTH CLIENT\n",
        "import carto.auth\n",
        "from carto.auth import APIKeyAuthClient\n",
        "\n",
        "USERNAME=\"USERNAME\"\n",
        "USR_BASE_URL = f\"https://{USERNAME}.carto.com/\"\n",
        "API_KEY = \"YOUR_APIKEY\"\n",
        "auth_client = APIKeyAuthClient(api_key=API_KEY, base_url=USR_BASE_URL)\n",
        "EXPORT_FORMAT = 'gpkg'\n",
        "SAVE_FOLDER = '/content/drive/MyDrive/Carto_datasets'\n",
        "\n"
      ],
      "metadata": {
        "id": "uoSIYSBu7DNB"
      },
      "execution_count": 2,
      "outputs": []
    },
    {
      "cell_type": "code",
      "source": [
        "!pip install tqdm"
      ],
      "metadata": {
        "id": "-Ma6XmTvU9fc"
      },
      "execution_count": null,
      "outputs": []
    },
    {
      "cell_type": "code",
      "execution_count": null,
      "metadata": {
        "id": "zg13W_Rr6oT-"
      },
      "outputs": [],
      "source": [
        "import argparse\n",
        "import logging\n",
        "import os\n",
        "import warnings\n",
        "from pathlib import Path\n",
        "\n",
        "import carto.datasets\n",
        "from carto.datasets import DatasetManager\n",
        "from carto.auth import APIKeyAuthClient\n",
        "from carto.sql import SQLClient\n",
        "\n",
        "from tqdm import tqdm\n",
        "\n",
        "warnings.filterwarnings('ignore')\n",
        "\n",
        "# SQL wrapper\n",
        "sql = SQLClient(APIKeyAuthClient(USR_BASE_URL, API_KEY))\n",
        "\n",
        "# Dataset manager\n",
        "dataset_manager = DatasetManager(auth_client)\n",
        "\n",
        "# Get all datasets from account\n",
        "datasets = dataset_manager.all()\n",
        "\n",
        "# donwload datasets from account\n",
        "for tablename in tqdm(datasets, desc=\"Processing...\"):\n",
        "    query = 'SELECT * FROM {table_name}'.format(table_name=tablename.name)\n",
        "    data_folder = Path(SAVE_FOLDER) / \"{table_name}.{format}\".format(table_name=tablename.name, format=EXPORT_FORMAT)\n",
        "\n",
        "    # Check if the file already exists in the save folder\n",
        "    if not os.path.exists(data_folder):\n",
        "        try:\n",
        "            result = sql.send(query, format=EXPORT_FORMAT)\n",
        "        except Exception as e:\n",
        "            print.error(str(e))\n",
        "            continue  # Skip to the next dataset\n",
        "\n",
        "        # Write the file to the specified folder\n",
        "        try:\n",
        "            data_folder.write_bytes(result)\n",
        "        except Exception as e:\n",
        "            print(str(e))\n",
        "    else:\n",
        "        print(f\"File for {tablename.name} already exists. Skipping download.\")"
      ]
    }
  ]
}